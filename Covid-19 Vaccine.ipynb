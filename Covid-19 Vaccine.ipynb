{
 "cells": [
  {
   "cell_type": "code",
   "execution_count": 3,
   "id": "b98a473a",
   "metadata": {},
   "outputs": [
    {
     "name": "stdout",
     "output_type": "stream",
     "text": [
      "Enter todays date(yyyy-mm-dd): 2021-11-06\n",
      "Enter Name: Rakshit Rai\n",
      "Enter Your Age: 32\n",
      "You can procced\n",
      "Did you had first Vaccine ? (Yes/No): yes\n",
      "Enter date of your first vaccine.(yyyy-mm-dd): 2021-06-22\n",
      "Days completed is  137  Have you got your second vaccine\n",
      "Second Vaccine(Yes/No): no\n",
      "Get the vaccine as soon as possible\n"
     ]
    }
   ],
   "source": [
    "# To take vaccines\n",
    "from datetime import datetime\n",
    " \n",
    "my_string = str(input('Enter todays date(yyyy-mm-dd): '))\n",
    "my_date = datetime.strptime(my_string, \"%Y-%m-%d\")\n",
    "\n",
    "Name=input('Enter Name: ')\n",
    "age=int(input('Enter Your Age: '))\n",
    "if age < 18 or age > 45:\n",
    "    print('Wait for the Next Announcement and till then dont stop using facemask')\n",
    "else:\n",
    "    print('You can procced')\n",
    "    fvaccine=str(input('Did you had first Vaccine ? (Yes/No): '))\n",
    "    my_string2 = str(input('Enter date of your first vaccine.(yyyy-mm-dd): '))\n",
    "    my_date2 = datetime.strptime(my_string2, \"%Y-%m-%d\")\n",
    "    date_diff = my_date - my_date2\n",
    "    date=date_diff.days\n",
    "    if date < 84:\n",
    "        print('Days completed is ',date,' wait till 84 days for your second vaccine')\n",
    "    else:\n",
    "        print('Days completed is ',date,' Have you got your second vaccine')\n",
    "        svaccine=str(input('Second Vaccine(Yes/No): '))\n",
    "        if svaccine.lower() == 'yes':\n",
    "            print(\"Hurray!, You are safe from corona Virus, you can stop using facemask\")\n",
    "        else:\n",
    "            print(\"Get the vaccine as soon as possible\")"
   ]
  }
 ],
 "metadata": {
  "kernelspec": {
   "display_name": "Python 3",
   "language": "python",
   "name": "python3"
  },
  "language_info": {
   "codemirror_mode": {
    "name": "ipython",
    "version": 3
   },
   "file_extension": ".py",
   "mimetype": "text/x-python",
   "name": "python",
   "nbconvert_exporter": "python",
   "pygments_lexer": "ipython3",
   "version": "3.8.8"
  }
 },
 "nbformat": 4,
 "nbformat_minor": 5
}
